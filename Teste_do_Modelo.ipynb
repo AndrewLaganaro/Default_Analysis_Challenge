{
 "cells": [
  {
   "cell_type": "markdown",
   "metadata": {},
   "source": [
    " # Análise de Inadimplência - X-Health"
   ]
  },
  {
   "cell_type": "markdown",
   "metadata": {},
   "source": [
    " ## Índice da Análise"
   ]
  },
  {
   "cell_type": "markdown",
   "metadata": {},
   "source": [
    " 1. Deployment Phase\n",
    "\n",
    "     * API development\n",
    "\n",
    "         * Prediction Class\n",
    "\n",
    "         * API Handler\n",
    "\n",
    "         * API Tester"
   ]
  },
  {
   "cell_type": "markdown",
   "metadata": {},
   "source": [
    " # Setup Phase"
   ]
  },
  {
   "cell_type": "markdown",
   "metadata": {},
   "source": [
    " ## Libraries"
   ]
  },
  {
   "cell_type": "code",
   "execution_count": 1,
   "metadata": {},
   "outputs": [
    {
     "name": "stdout",
     "output_type": "stream",
     "text": [
      "Import successful\n"
     ]
    }
   ],
   "source": [
    "try:\n",
    "    # Toolbox libraries\n",
    "    import pickle\n",
    "    import json\n",
    "    import pandas as pd\n",
    "    import numpy as np\n",
    "    import inflection\n",
    "    print(\"Import successful\")\n",
    "    \n",
    "except Exception as e:\n",
    "    \n",
    "    print(\"Error while importing libraries: \", \"\\n\", e)\n",
    "\n"
   ]
  },
  {
   "cell_type": "markdown",
   "metadata": {},
   "source": [
    "#### Predict.py"
   ]
  },
  {
   "cell_type": "code",
   "execution_count": 2,
   "metadata": {},
   "outputs": [],
   "source": [
    "def open_model(model_name, folder = 'Dev/'):\n",
    "    \n",
    "    \"\"\"\n",
    "    Load a saved model from disk.\n",
    "    \n",
    "    Parameters\n",
    "    ----------\n",
    "    model_name : str\n",
    "        Name of the model to load.\n",
    "        \n",
    "    Returns\n",
    "    -------\n",
    "    model : object\n",
    "        The loaded model, or None if loading failed.\n",
    "    \"\"\"\n",
    "    \n",
    "    file_name = model_name\n",
    "    model_name = './Models/' + folder + model_name + '.pkl'\n",
    "    \n",
    "    try:\n",
    "        \n",
    "        model = pickle.load(open(model_name, 'rb'))\n",
    "        print(f'{file_name} loaded successfully!')\n",
    "        \n",
    "        return model\n",
    "    \n",
    "    except Exception as e:\n",
    "        \n",
    "        print(f'Error loading model {file_name}: {str(e)}')\n",
    "        \n",
    "        return None\n",
    "\n",
    "\n",
    "def make_prediction(model, data):\n",
    "    \"\"\"Realiza a predição usando o modelo scikit-learn\"\"\"\n",
    "    try:\n",
    "        # Fazer a predição - usando a interface scikit-learn\n",
    "        prediction_proba = model.predict_proba(data)\n",
    "        \n",
    "        # Obter a classe predita (0 ou 1)\n",
    "        prediction = model.predict(data)\n",
    "        \n",
    "        # Retornar o resultado da primeira amostra\n",
    "        result = int(prediction[0])\n",
    "        \n",
    "        return result\n",
    "    \n",
    "    except Exception as e:\n",
    "        \n",
    "        raise ValueError(f\"Erro ao fazer a predição: {e}\")"
   ]
  },
  {
   "cell_type": "markdown",
   "metadata": {},
   "source": [
    "Api.py"
   ]
  },
  {
   "cell_type": "code",
   "execution_count": 3,
   "metadata": {},
   "outputs": [],
   "source": [
    "def validate_json(data):\n",
    "    \n",
    "    \"\"\"Verifica se os campos necessários estão presentes no JSON\"\"\"\n",
    "    \n",
    "    required_fields = ['default_3months', 'ioi_36months', 'ioi_3months', 'valor_por_vencer', 'valor_quitado', 'valor_total_pedido']\n",
    "    \n",
    "    for field in required_fields:\n",
    "        \n",
    "        if field not in data:\n",
    "            \n",
    "            return False, f\"Campo obrigatório ausente: {field}\"\n",
    "    \n",
    "    return True, \"JSON válido\"\n",
    "\n",
    "\n",
    "def process_json_for_prediction(data):\n",
    "    \"\"\"Processa o JSON para o formato adequado para predição\"\"\"\n",
    "    try:\n",
    "        \n",
    "        df_raw = pd.DataFrame([data])\n",
    "        \n",
    "        snakecase = lambda column: inflection.underscore(column)\n",
    "        Colunas_new = list(map(snakecase, df_raw.columns))\n",
    "        df_raw.columns = Colunas_new\n",
    "        \n",
    "        df_raw = df_raw.replace(\"missing\", np.nan)\n",
    "        \n",
    "        # valor_vencido, valor_quitado, ioi_3months, ioi_36months\n",
    "        df_raw['var_ioi'] = df_raw[['ioi_3months', 'ioi_36months']].std(axis=1)\n",
    "        df_raw['taxa_cresc_quitado'] = df_raw['valor_quitado'] / (df_raw['ioi_3months'] + 1)\n",
    "        df_raw.columns.name = None\n",
    "        df_transformed = df_raw.copy()\n",
    "        # 1. default_3months, ioi_36months, ioi_3months, valor_por_vencer, valor_quitado, valor_total_pedido\n",
    "        df_transformed['default_3months_transformed'] = np.log1p(df_raw['default_3months'])\n",
    "        df_transformed['default_3months_scaled'] = (df_transformed['default_3months_transformed'] - df_transformed['default_3months_transformed'].min()) / \\\n",
    "                                                    (df_transformed['default_3months_transformed'].max() - df_transformed['default_3months_transformed'].min())\n",
    "        # 2. ioi_36months\n",
    "        df_transformed['ioi_36months_transformed'] = np.log(df_raw['ioi_36months'].replace(0, 0.1))\n",
    "        df_transformed['ioi_36months_scaled'] = (df_transformed['ioi_36months_transformed'] - df_transformed['ioi_36months_transformed'].min()) / \\\n",
    "                                                (df_transformed['ioi_36months_transformed'].max() - df_transformed['ioi_36months_transformed'].min())\n",
    "        # 3. ioi_3months\n",
    "        df_transformed['ioi_3months_transformed'] = np.log(df_raw['ioi_3months'].replace(0, 0.1))\n",
    "        df_transformed['ioi_3months_scaled'] = (df_transformed['ioi_3months_transformed'] - df_transformed['ioi_3months_transformed'].min()) / \\\n",
    "                                                (df_transformed['ioi_3months_transformed'].max() - df_transformed['ioi_3months_transformed'].min())\n",
    "        # 4. valor_por_vencer\n",
    "        df_transformed['valor_por_vencer_transformed'] = np.log1p(df_raw['valor_por_vencer'])\n",
    "        df_transformed['valor_por_vencer_scaled'] = (df_transformed['valor_por_vencer_transformed'] - df_transformed['valor_por_vencer_transformed'].min()) / \\\n",
    "                                                    (df_transformed['valor_por_vencer_transformed'].max() - df_transformed['valor_por_vencer_transformed'].min())\n",
    "        # 6. valor_quitado\n",
    "        df_transformed['valor_quitado_transformed'] = np.log1p(df_raw['valor_quitado'])\n",
    "        df_transformed['valor_quitado_scaled'] = (df_transformed['valor_quitado_transformed'] - df_transformed['valor_quitado_transformed'].min()) / \\\n",
    "                                                (df_transformed['valor_quitado_transformed'].max() - df_transformed['valor_quitado_transformed'].min())\n",
    "        # 15. valor_total_pedido\n",
    "        df_transformed['valor_total_pedido_transformed'] = np.log1p(np.abs(df_raw['valor_total_pedido'])) * np.sign(df_raw['valor_total_pedido'])\n",
    "        df_transformed['valor_total_pedido_scaled'] = (df_transformed['valor_total_pedido_transformed'] - df_transformed['valor_total_pedido_transformed'].min()) / \\\n",
    "                                                    (df_transformed['valor_total_pedido_transformed'].max() - df_transformed['valor_total_pedido_transformed'].min())\n",
    "        # 19. var_ioi\n",
    "        df_transformed['var_ioi_transformed'] = np.log1p(df_raw['var_ioi'])\n",
    "        df_transformed['var_ioi_scaled'] = (df_transformed['var_ioi_transformed'] - df_transformed['var_ioi_transformed'].min()) / \\\n",
    "                                            (df_transformed['var_ioi_transformed'].max() - df_transformed['var_ioi_transformed'].min())\n",
    "        # 20. taxa_cresc_quitado\n",
    "        df_transformed['taxa_cresc_quitado_transformed'] = np.log1p(df_raw['taxa_cresc_quitado'])\n",
    "        df_transformed['taxa_cresc_quitado_scaled'] = (df_transformed['taxa_cresc_quitado_transformed'] - df_transformed['taxa_cresc_quitado_transformed'].min()) / \\\n",
    "                                                    (df_transformed['taxa_cresc_quitado_transformed'].max() - df_transformed['taxa_cresc_quitado_transformed'].min())\n",
    "        \n",
    "        # Substituir infinitos por 0 (caso ocorram em alguma divisão)\n",
    "        df_transformed = df_transformed.replace([np.inf, -np.inf], 0)\n",
    "        \n",
    "        # Ausência de NaN após transformações\n",
    "        \n",
    "        if df_transformed.isna().sum().sum() > 0:\n",
    "            \n",
    "            df_transformed = df_transformed.fillna(0)\n",
    "        \n",
    "        columns_to_keep = [col for col in df_transformed.columns if '_scaled' in col]\n",
    "        \n",
    "        df_final = df_transformed[columns_to_keep]\n",
    "        \n",
    "        df_final = df_final[['default_3months_scaled', 'ioi_36months_scaled', 'ioi_3months_scaled', 'valor_por_vencer_scaled', \n",
    "                                'valor_quitado_scaled', 'valor_total_pedido_scaled', 'var_ioi_scaled', 'taxa_cresc_quitado_scaled']]\n",
    "                                \n",
    "        return df_final, \"Dados processados com sucesso\"\n",
    "    \n",
    "    except Exception as e:\n",
    "        \n",
    "        return None, f\"Erro ao processar dados: {e}\""
   ]
  },
  {
   "cell_type": "markdown",
   "metadata": {},
   "source": [
    "Exemplo de Input para predição do Modelo:\n",
    "\n",
    "{\"default_3months\": 0.0,\n",
    "\n",
    "\"ioi_36months\": 22.961318993,\n",
    "\n",
    "\"ioi_3months\": 9.7398055882,\n",
    "\n",
    "\"valor_por_vencer\": 6993.3971923151,\n",
    "\n",
    "\"valor_quitado\": 92981.1128787256,\n",
    "\n",
    "\"valor_total_pedido\": 4545.5232294998}"
   ]
  },
  {
   "cell_type": "code",
   "execution_count": 4,
   "metadata": {},
   "outputs": [],
   "source": [
    "json_path = './Test/deploy_test.json'"
   ]
  },
  {
   "cell_type": "code",
   "execution_count": 5,
   "metadata": {},
   "outputs": [],
   "source": [
    "with open (json_path, 'r') as json_file:\n",
    "    json_data = json.load(json_file)"
   ]
  },
  {
   "cell_type": "code",
   "execution_count": 6,
   "metadata": {},
   "outputs": [
    {
     "name": "stdout",
     "output_type": "stream",
     "text": [
      "XGBoost_Best_Model_Prod loaded successfully!\n",
      "❌ O Cliente é um Provável Inadimplente\n"
     ]
    }
   ],
   "source": [
    "if json_data is not None:\n",
    "    \n",
    "    is_valid, validation_msg = validate_json(json_data)\n",
    "    \n",
    "    if is_valid:\n",
    "        \n",
    "        processed_data, process_msg = process_json_for_prediction(json_data)\n",
    "        \n",
    "        if processed_data is not None:\n",
    "            \n",
    "            model = open_model(\"XGBoost_Best_Model_Prod\", folder = 'Prod/')\n",
    "            \n",
    "            if model is not None:\n",
    "                \n",
    "                try: \n",
    "                    \n",
    "                    prediction_result = make_prediction(model, processed_data)\n",
    "                    \n",
    "                except:\n",
    "                    \n",
    "                    print(f\"Erro ao fazer predição: {e}\")\n",
    "                    \n",
    "                if prediction_result is not None:\n",
    "                    \n",
    "                    if prediction_result == 1:\n",
    "                        \n",
    "                        print(\"✅ O Cliente é um Bom Pagador\")\n",
    "                        \n",
    "                    else:\n",
    "                        \n",
    "                        print(\"❌ O Cliente é um Provável Inadimplente\")\n",
    "                        \n",
    "            else:\n",
    "                \n",
    "                print(\"Não foi possível carregar o modelo\")\n",
    "                \n",
    "        else:\n",
    "            \n",
    "            print(process_msg)\n",
    "            \n",
    "    else:\n",
    "        \n",
    "        print(validation_msg)\n",
    "        \n",
    "else:\n",
    "    print(\"Por favor, carregue um arquivo JSON antes de analisar\")"
   ]
  }
 ],
 "metadata": {
  "kernelspec": {
   "display_name": "ds-challenge (3.10.12)",
   "language": "python",
   "name": "python3"
  },
  "language_info": {
   "codemirror_mode": {
    "name": "ipython",
    "version": 3
   },
   "file_extension": ".py",
   "mimetype": "text/x-python",
   "name": "python",
   "nbconvert_exporter": "python",
   "pygments_lexer": "ipython3",
   "version": "3.10.12"
  }
 },
 "nbformat": 4,
 "nbformat_minor": 2
}
